{
 "cells": [
  {
   "cell_type": "code",
   "execution_count": 1,
   "id": "initial_id",
   "metadata": {
    "ExecuteTime": {
     "end_time": "2023-08-24T20:25:26.292379264Z",
     "start_time": "2023-08-24T20:25:25.221166050Z"
    },
    "collapsed": true
   },
   "outputs": [],
   "source": [
    "from data_downloader import read_example_files\n",
    "from data_downloader import read_file_to_dataframe\n",
    "from runner import run_example_pdf_visu\n",
    "from runner import run_example_pdf_summary\n",
    "from runner import remove_directories"
   ]
  },
  {
   "cell_type": "markdown",
   "id": "bae482616100948e",
   "metadata": {},
   "source": [
    "# 1.this will generate 2 pdf in report dir one for visualizations and one for visualizations and statistical summary \n",
    "# 2.encoded date "
   ]
  },
  {
   "cell_type": "code",
   "execution_count": 2,
   "id": "b4eb1d6c6a6f6c09",
   "metadata": {
    "ExecuteTime": {
     "end_time": "2023-08-24T20:27:31.213449322Z",
     "start_time": "2023-08-24T20:25:26.295142374Z"
    }
   },
   "outputs": [
    {
     "name": "stdout",
     "output_type": "stream",
     "text": [
      "Directory './Data' already exists.\n",
      "File with 'international' in its name already exists.\n",
      "Directory 'Report' already exists.\n",
      "Numerical Columns: ['usg_apt_id', 'usg_wac', 'fg_apt_id', 'fg_wac', 'airlineid', 'carriergroup', 'Scheduled', 'Charter', 'Total']\n",
      "Categorical Columns: ['usg_apt', 'fg_apt', 'carrier', 'type']\n",
      "Datetime Columns: ['data_dte', 'Year', 'Month']\n",
      "['directory_2023-08-24_21-25-27/count_plot_of_usg_apt_(top_10).jpg', 'directory_2023-08-24_21-25-27/count_plot_of_fg_apt_(top_10).jpg', 'directory_2023-08-24_21-25-27/count_plot_of_carrier_(top_10).jpg', 'directory_2023-08-24_21-25-27/count_plot_of_type_(top_10).jpg']\n",
      "          usg_apt_id        usg_wac      fg_apt_id         fg_wac  \\\n",
      "count  680985.000000  680985.000000  680985.000000  680985.000000   \n",
      "mean    12779.103825      44.394527   13493.331869     468.122264   \n",
      "std      2510.939346      28.110753    1955.917890     292.799407   \n",
      "min     10010.000000       1.000000   10125.000000     106.000000   \n",
      "25%     11618.000000      22.000000   11760.000000     204.000000   \n",
      "50%     12889.000000      33.000000   13408.000000     429.000000   \n",
      "75%     13796.000000      74.000000   15092.000000     736.000000   \n",
      "max     99999.000000      93.000000   16881.000000     975.000000   \n",
      "\n",
      "           airlineid   carriergroup      Scheduled        Charter  \\\n",
      "count  680985.000000  680985.000000  680985.000000  680985.000000   \n",
      "mean    20031.610461       0.562233    6478.893801     196.740288   \n",
      "std       510.270976       0.496112    8622.704655     954.759814   \n",
      "min     19386.000000       0.000000       0.000000       0.000000   \n",
      "25%     19623.000000       0.000000     142.000000       0.000000   \n",
      "50%     19917.000000       1.000000    3561.000000       0.000000   \n",
      "75%     20312.000000       1.000000    9700.000000       0.000000   \n",
      "max     22067.000000       1.000000  149898.000000   58284.000000   \n",
      "\n",
      "               Total  \n",
      "count  680985.000000  \n",
      "mean     6675.634089  \n",
      "std      8532.400269  \n",
      "min         1.000000  \n",
      "25%       633.000000  \n",
      "50%      3803.000000  \n",
      "75%      9761.000000  \n",
      "max    150195.000000  \n",
      "PDF generated successfully.\n",
      "PDF summary report generated successfully.\n",
      "['directory_2023-08-24_21-25-27/count_plot_of_usg_apt_(top_10).jpg', 'directory_2023-08-24_21-25-27/count_plot_of_fg_apt_(top_10).jpg', 'directory_2023-08-24_21-25-27/count_plot_of_carrier_(top_10).jpg', 'directory_2023-08-24_21-25-27/count_plot_of_type_(top_10).jpg']\n",
      "                Year          Month     usg_apt_id        usg_wac  \\\n",
      "count  930808.000000  930808.000000  930808.000000  930808.000000   \n",
      "mean     2006.021361       6.414783   12809.473781      42.511740   \n",
      "std         8.558831       3.471070    2716.223845      27.571338   \n",
      "min      1990.000000       1.000000   10010.000000       1.000000   \n",
      "25%      1999.000000       3.000000   11618.000000      22.000000   \n",
      "50%      2007.000000       6.000000   12892.000000      33.000000   \n",
      "75%      2014.000000       9.000000   13487.000000      72.000000   \n",
      "max      2020.000000      12.000000   99999.000000      93.000000   \n",
      "\n",
      "           fg_apt_id         fg_wac      airlineid   carriergroup  \\\n",
      "count  930808.000000  930808.000000  930808.000000  930808.000000   \n",
      "mean    13484.676238     466.910479   20057.217505       0.599361   \n",
      "std      1932.601107     288.005971     479.071456       0.490028   \n",
      "min     10119.000000     106.000000   19386.000000       0.000000   \n",
      "25%     11868.000000     205.000000   19704.000000       0.000000   \n",
      "50%     13408.000000     427.000000   19991.000000       1.000000   \n",
      "75%     15084.000000     736.000000   20312.000000       1.000000   \n",
      "max     16881.000000     975.000000   22067.000000       1.000000   \n",
      "\n",
      "           Scheduled        Charter          Total  \n",
      "count  930808.000000  930808.000000  930808.000000  \n",
      "mean       40.003181       2.005483      42.008665  \n",
      "std        60.948973       8.278403      60.340835  \n",
      "min         0.000000       0.000000       1.000000  \n",
      "25%         0.000000       0.000000       3.000000  \n",
      "50%        17.000000       0.000000      20.000000  \n",
      "75%        60.000000       1.000000      60.000000  \n",
      "max      2019.000000    1092.000000    2019.000000  \n",
      "PDF generated successfully.\n",
      "PDF summary report generated successfully.\n",
      "Reports generated successfully.\n",
      "Removed directory: directory_2023-08-24_21-22-35\n",
      "Removed directory: directory_2023-08-24_21-25-27\n"
     ]
    }
   ],
   "source": [
    "lst =read_example_files()\n",
    "for i in lst:\n",
    "    df, name = read_file_to_dataframe(i)\n",
    "    run_example_pdf_visu(df, name)\n",
    "    run_example_pdf_summary(df, name)\n",
    "\n",
    "print(\"Reports generated successfully.\")\n",
    "\n",
    "remove_directories()\n"
   ]
  },
  {
   "cell_type": "code",
   "execution_count": 3,
   "id": "41cfd1e90f30b4a6",
   "metadata": {
    "ExecuteTime": {
     "end_time": "2023-08-24T20:27:31.213936623Z",
     "start_time": "2023-08-24T20:27:31.213208501Z"
    }
   },
   "outputs": [
    {
     "data": {
      "text/html": [
       "Click to open eda_report_summary_International_Report_Departures.csv.pdf: <a href='Report/eda_report_summary_International_Report_Departures.csv.pdf' target='_blank'>Report/eda_report_summary_International_Report_Departures.csv.pdf</a><br>"
      ],
      "text/plain": [
       "/home/xcrown/PycharmProjects/data-analysis-toolkit/Report/eda_report_summary_International_Report_Departures.csv.pdf"
      ]
     },
     "metadata": {},
     "output_type": "display_data"
    },
    {
     "data": {
      "text/html": [
       "Click to open eda_report_graphs_International_Report_Departures.csv.pdf: <a href='Report/eda_report_graphs_International_Report_Departures.csv.pdf' target='_blank'>Report/eda_report_graphs_International_Report_Departures.csv.pdf</a><br>"
      ],
      "text/plain": [
       "/home/xcrown/PycharmProjects/data-analysis-toolkit/Report/eda_report_graphs_International_Report_Departures.csv.pdf"
      ]
     },
     "metadata": {},
     "output_type": "display_data"
    },
    {
     "data": {
      "text/html": [
       "Click to open eda_report_graphs_International_Report_Passengers.csv.pdf: <a href='Report/eda_report_graphs_International_Report_Passengers.csv.pdf' target='_blank'>Report/eda_report_graphs_International_Report_Passengers.csv.pdf</a><br>"
      ],
      "text/plain": [
       "/home/xcrown/PycharmProjects/data-analysis-toolkit/Report/eda_report_graphs_International_Report_Passengers.csv.pdf"
      ]
     },
     "metadata": {},
     "output_type": "display_data"
    },
    {
     "data": {
      "text/html": [
       "Click to open eda_report_summary_International_Report_Passengers.csv.pdf: <a href='Report/eda_report_summary_International_Report_Passengers.csv.pdf' target='_blank'>Report/eda_report_summary_International_Report_Passengers.csv.pdf</a><br>"
      ],
      "text/plain": [
       "/home/xcrown/PycharmProjects/data-analysis-toolkit/Report/eda_report_summary_International_Report_Passengers.csv.pdf"
      ]
     },
     "metadata": {},
     "output_type": "display_data"
    }
   ],
   "source": [
    "from IPython.display import display, FileLink\n",
    "import os\n",
    "\n",
    "# Define the directory containing the PDF reports\n",
    "report_directory = \"Report\"\n",
    "\n",
    "# Iterate through PDF files in the directory\n",
    "pdf_files = [file for file in os.listdir(report_directory) if file.lower().endswith('.pdf')]\n",
    "\n",
    "if not pdf_files:\n",
    "    print(\"No PDF files found in the 'Report' directory.\")\n",
    "else:\n",
    "    for pdf_file in pdf_files:\n",
    "        pdf_path = os.path.join(report_directory, pdf_file)\n",
    "        display(FileLink(pdf_path, result_html_prefix=f\"Click to open {pdf_file}: \"))\n"
   ]
  },
  {
   "cell_type": "code",
   "execution_count": null,
   "id": "dbb7458b",
   "metadata": {},
   "outputs": [],
   "source": []
  }
 ],
 "metadata": {
  "kernelspec": {
   "display_name": "Python 3 (ipykernel)",
   "language": "python",
   "name": "python3"
  },
  "language_info": {
   "codemirror_mode": {
    "name": "ipython",
    "version": 3
   },
   "file_extension": ".py",
   "mimetype": "text/x-python",
   "name": "python",
   "nbconvert_exporter": "python",
   "pygments_lexer": "ipython3",
   "version": "3.10.12"
  }
 },
 "nbformat": 4,
 "nbformat_minor": 5
}
