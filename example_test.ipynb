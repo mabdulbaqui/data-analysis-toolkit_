{
 "cells": [
  {
   "cell_type": "code",
   "execution_count": 5,
   "id": "initial_id",
   "metadata": {
    "ExecuteTime": {
     "end_time": "2023-08-24T20:25:26.292379264Z",
     "start_time": "2023-08-24T20:25:25.221166050Z"
    }
   },
   "outputs": [],
   "source": [
    "from data_downloader import read_example_files\n",
    "from data_downloader import read_file_to_dataframe\n",
    "from runner import run_example_pdf_visu\n",
    "from runner import run_example_pdf_summary\n",
    "from runner import remove_directories\n",
    "remove_directories()\n",
    "import time"
   ]
  },
  {
   "cell_type": "markdown",
   "id": "bae482616100948e",
   "metadata": {},
   "source": [
    "## PDF Generation Process\n",
    "\n",
    "This process is designed to create two PDF files for each CSV file located in the \"report\" directory. For every CSV file, the process will generate two separate PDFs:\n",
    "\n",
    "1. **Visualizations PDF:** This PDF will showcase visual representations based on the data in the CSV file.\n",
    "\n",
    "2. **Visualizations and Statistical Summary PDF:** In addition to the visualizations, this PDF will also include a comprehensive statistical summary derived from the data.\n",
    "\n",
    "## Encoding Date\n",
    "\n",
    "During the process, dates will be encoded using a specific method to enhance data handling and analysis.\n",
    "\n",
    "## Elapsed Time\n",
    "\n",
    "The entire process is expected to complete in approximately 121.1537 seconds.\n",
    "\n",
    "## Opening PDF Files\n",
    "\n",
    "Once the process is complete, the final step involves opening all generated PDF files located in the \"report\" directory. This step allows for thorough review and analysis of the generated visualizations and statistical summaries.\n"
   ]
  },
  {
   "cell_type": "code",
   "execution_count": 2,
   "id": "b4eb1d6c6a6f6c09",
   "metadata": {
    "ExecuteTime": {
     "end_time": "2023-08-24T20:27:31.213449322Z",
     "start_time": "2023-08-24T20:25:26.295142374Z"
    }
   },
   "outputs": [
    {
     "name": "stdout",
     "output_type": "stream",
     "text": [
      "Directory './Data' already exists.\n",
      "File with 'international' in its name already exists.\n",
      "Directory 'Report' already exists.\n",
      "Numerical Columns: ['usg_apt_id', 'usg_wac', 'fg_apt_id', 'fg_wac', 'airlineid', 'carriergroup', 'Scheduled', 'Charter', 'Total']\n",
      "Categorical Columns: ['usg_apt', 'fg_apt', 'carrier', 'type']\n",
      "Datetime Columns: ['data_dte', 'Year', 'Month']\n",
      "PDF generated successfully.\n",
      "PDF summary report generated successfully.\n",
      "PDF generated successfully.\n",
      "PDF summary report generated successfully.\n",
      "Reports generated successfully.\n",
      "Removed directory: directory_2023-08-24_21-48-19\n",
      "Elapsed time: 121.1537 seconds\n"
     ]
    }
   ],
   "source": [
    "start_time = time.time()  # Record the start time\n",
    "\n",
    "lst =read_example_files()\n",
    "for i in lst:\n",
    "    df, name = read_file_to_dataframe(i)\n",
    "    run_example_pdf_visu(df, name[:-4])\n",
    "    run_example_pdf_summary(df, name[:-4])\n",
    "\n",
    "print(\"Reports generated successfully.\")\n",
    "\n",
    "remove_directories()\n",
    "end_time = time.time()  # Record the end time\n",
    "\n",
    "elapsed_time = end_time - start_time  # Calculate the elapsed time\n",
    "print(f\"Elapsed time: {elapsed_time:.4f} seconds\")"
   ]
  },
  {
   "cell_type": "code",
   "execution_count": 8,
   "id": "9e426af8",
   "metadata": {},
   "outputs": [
    {
     "name": "stdout",
     "output_type": "stream",
     "text": [
      "eda_report_summary_International_Report_Departures.pdf\n",
      "eda_report_graphs_International_Report_Passengers.pdf\n",
      "eda_report_graphs_International_Report_Departures.pdf\n",
      "eda_report_summary_International_Report_Passengers.pdf\n"
     ]
    },
    {
     "name": "stderr",
     "output_type": "stream",
     "text": [
      "\n",
      "(process:50900): Gtk-WARNING **: 22:05:24.407: Locale not supported by C library.\n",
      "\tUsing the fallback 'C' locale.\n",
      "\n",
      "(process:50913): Gtk-WARNING **: 22:05:24.424: Locale not supported by C library.\n",
      "\tUsing the fallback 'C' locale.\n",
      "\n",
      "(process:50923): Gtk-WARNING **: 22:05:24.429: Locale not supported by C library.\n",
      "\tUsing the fallback 'C' locale.\n",
      "\n",
      "(process:50935): Gtk-WARNING **: 22:05:24.457: Locale not supported by C library.\n",
      "\tUsing the fallback 'C' locale.\n"
     ]
    }
   ],
   "source": [
    "import os\n",
    "import glob\n",
    "import subprocess\n",
    "\n",
    "pdf_directory = \"/home/xcrown/PycharmProjects/data-analysis-toolkit/Report\"\n",
    "pdf_files = glob.glob(os.path.join(pdf_directory, \"*.pdf\"))\n",
    "\n",
    "for pdf_file in pdf_files:\n",
    "    pdf_file_name = os.path.basename(pdf_file)\n",
    "    print(pdf_file_name)\n",
    "\n",
    "    # Open the PDF file using the default PDF viewer\n",
    "    subprocess.run([\"xdg-open\", pdf_file])\n"
   ]
  },
  {
   "cell_type": "code",
   "execution_count": null,
   "id": "f4f9bdd3",
   "metadata": {},
   "outputs": [],
   "source": []
  }
 ],
 "metadata": {
  "kernelspec": {
   "display_name": "Python 3 (ipykernel)",
   "language": "python",
   "name": "python3"
  },
  "language_info": {
   "codemirror_mode": {
    "name": "ipython",
    "version": 3
   },
   "file_extension": ".py",
   "mimetype": "text/x-python",
   "name": "python",
   "nbconvert_exporter": "python",
   "pygments_lexer": "ipython3",
   "version": "3.10.12"
  }
 },
 "nbformat": 4,
 "nbformat_minor": 5
}
