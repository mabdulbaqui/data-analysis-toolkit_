{
 "cells": [
  {
   "cell_type": "code",
   "execution_count": 1,
   "id": "1dbb310088feefc8",
   "metadata": {
    "ExecuteTime": {
     "end_time": "2023-08-15T18:15:25.790917008Z",
     "start_time": "2023-08-15T18:15:24.795831086Z"
    }
   },
   "outputs": [],
   "source": [
    "from data_downloader import download_example\n",
    "from data_analyzer import DataAnalyzer\n",
    "from datasist.structdata import detect_outliers\n",
    "import pandas as pd\n",
    "pd.set_option('display.float_format', lambda x: '%.2f' % x)\n"
   ]
  },
  {
   "cell_type": "code",
   "execution_count": 2,
   "outputs": [
    {
     "name": "stdout",
     "output_type": "stream",
     "text": [
      "File with 'international' in its name already exists.\n"
     ]
    },
    {
     "ename": "ParserError",
     "evalue": "Error tokenizing data. C error: Calling read(nbytes) on source failed. Try engine='python'.",
     "output_type": "error",
     "traceback": [
      "\u001B[0;31m---------------------------------------------------------------------------\u001B[0m",
      "\u001B[0;31mParserError\u001B[0m                               Traceback (most recent call last)",
      "Cell \u001B[0;32mIn[2], line 1\u001B[0m\n\u001B[0;32m----> 1\u001B[0m df \u001B[38;5;241m=\u001B[39m \u001B[43mdownload_example\u001B[49m\u001B[43m(\u001B[49m\u001B[43m)\u001B[49m\n",
      "File \u001B[0;32m~/PycharmProjects/pythonProject/data_downloader.py:85\u001B[0m, in \u001B[0;36mdownload_example\u001B[0;34m()\u001B[0m\n\u001B[1;32m     82\u001B[0m     \u001B[38;5;28;01mreturn\u001B[39;00m \u001B[38;5;28;01mNone\u001B[39;00m\n\u001B[1;32m     84\u001B[0m \u001B[38;5;66;03m# Read the first CSV file into a DataFrame\u001B[39;00m\n\u001B[0;32m---> 85\u001B[0m df \u001B[38;5;241m=\u001B[39m \u001B[43mread_file_to_dataframe\u001B[49m\u001B[43m(\u001B[49m\u001B[43mcsv_files\u001B[49m\u001B[43m[\u001B[49m\u001B[38;5;241;43m0\u001B[39;49m\u001B[43m]\u001B[49m\u001B[43m)\u001B[49m\n\u001B[1;32m     87\u001B[0m \u001B[38;5;28;01mreturn\u001B[39;00m df\n",
      "File \u001B[0;32m~/PycharmProjects/pythonProject/data_downloader.py:54\u001B[0m, in \u001B[0;36mread_file_to_dataframe\u001B[0;34m(file_path)\u001B[0m\n\u001B[1;32m     52\u001B[0m \u001B[38;5;66;03m# Read the file into a data frame based on the source type\u001B[39;00m\n\u001B[1;32m     53\u001B[0m \u001B[38;5;28;01mif\u001B[39;00m source_type \u001B[38;5;241m==\u001B[39m \u001B[38;5;124m'\u001B[39m\u001B[38;5;124mcsv\u001B[39m\u001B[38;5;124m'\u001B[39m:\n\u001B[0;32m---> 54\u001B[0m     df \u001B[38;5;241m=\u001B[39m \u001B[43mpd\u001B[49m\u001B[38;5;241;43m.\u001B[39;49m\u001B[43mread_csv\u001B[49m\u001B[43m(\u001B[49m\u001B[43mfile_path\u001B[49m\u001B[43m)\u001B[49m\n\u001B[1;32m     55\u001B[0m \u001B[38;5;28;01melif\u001B[39;00m source_type \u001B[38;5;241m==\u001B[39m \u001B[38;5;124m'\u001B[39m\u001B[38;5;124mexcel\u001B[39m\u001B[38;5;124m'\u001B[39m:\n\u001B[1;32m     56\u001B[0m     df \u001B[38;5;241m=\u001B[39m pd\u001B[38;5;241m.\u001B[39mread_excel(file_path)\n",
      "File \u001B[0;32m~/PycharmProjects/pythonProject/venv/lib/python3.11/site-packages/pandas/io/parsers/readers.py:912\u001B[0m, in \u001B[0;36mread_csv\u001B[0;34m(filepath_or_buffer, sep, delimiter, header, names, index_col, usecols, dtype, engine, converters, true_values, false_values, skipinitialspace, skiprows, skipfooter, nrows, na_values, keep_default_na, na_filter, verbose, skip_blank_lines, parse_dates, infer_datetime_format, keep_date_col, date_parser, date_format, dayfirst, cache_dates, iterator, chunksize, compression, thousands, decimal, lineterminator, quotechar, quoting, doublequote, escapechar, comment, encoding, encoding_errors, dialect, on_bad_lines, delim_whitespace, low_memory, memory_map, float_precision, storage_options, dtype_backend)\u001B[0m\n\u001B[1;32m    899\u001B[0m kwds_defaults \u001B[38;5;241m=\u001B[39m _refine_defaults_read(\n\u001B[1;32m    900\u001B[0m     dialect,\n\u001B[1;32m    901\u001B[0m     delimiter,\n\u001B[0;32m   (...)\u001B[0m\n\u001B[1;32m    908\u001B[0m     dtype_backend\u001B[38;5;241m=\u001B[39mdtype_backend,\n\u001B[1;32m    909\u001B[0m )\n\u001B[1;32m    910\u001B[0m kwds\u001B[38;5;241m.\u001B[39mupdate(kwds_defaults)\n\u001B[0;32m--> 912\u001B[0m \u001B[38;5;28;01mreturn\u001B[39;00m \u001B[43m_read\u001B[49m\u001B[43m(\u001B[49m\u001B[43mfilepath_or_buffer\u001B[49m\u001B[43m,\u001B[49m\u001B[43m \u001B[49m\u001B[43mkwds\u001B[49m\u001B[43m)\u001B[49m\n",
      "File \u001B[0;32m~/PycharmProjects/pythonProject/venv/lib/python3.11/site-packages/pandas/io/parsers/readers.py:583\u001B[0m, in \u001B[0;36m_read\u001B[0;34m(filepath_or_buffer, kwds)\u001B[0m\n\u001B[1;32m    580\u001B[0m     \u001B[38;5;28;01mreturn\u001B[39;00m parser\n\u001B[1;32m    582\u001B[0m \u001B[38;5;28;01mwith\u001B[39;00m parser:\n\u001B[0;32m--> 583\u001B[0m     \u001B[38;5;28;01mreturn\u001B[39;00m \u001B[43mparser\u001B[49m\u001B[38;5;241;43m.\u001B[39;49m\u001B[43mread\u001B[49m\u001B[43m(\u001B[49m\u001B[43mnrows\u001B[49m\u001B[43m)\u001B[49m\n",
      "File \u001B[0;32m~/PycharmProjects/pythonProject/venv/lib/python3.11/site-packages/pandas/io/parsers/readers.py:1704\u001B[0m, in \u001B[0;36mTextFileReader.read\u001B[0;34m(self, nrows)\u001B[0m\n\u001B[1;32m   1697\u001B[0m nrows \u001B[38;5;241m=\u001B[39m validate_integer(\u001B[38;5;124m\"\u001B[39m\u001B[38;5;124mnrows\u001B[39m\u001B[38;5;124m\"\u001B[39m, nrows)\n\u001B[1;32m   1698\u001B[0m \u001B[38;5;28;01mtry\u001B[39;00m:\n\u001B[1;32m   1699\u001B[0m     \u001B[38;5;66;03m# error: \"ParserBase\" has no attribute \"read\"\u001B[39;00m\n\u001B[1;32m   1700\u001B[0m     (\n\u001B[1;32m   1701\u001B[0m         index,\n\u001B[1;32m   1702\u001B[0m         columns,\n\u001B[1;32m   1703\u001B[0m         col_dict,\n\u001B[0;32m-> 1704\u001B[0m     ) \u001B[38;5;241m=\u001B[39m \u001B[38;5;28;43mself\u001B[39;49m\u001B[38;5;241;43m.\u001B[39;49m\u001B[43m_engine\u001B[49m\u001B[38;5;241;43m.\u001B[39;49m\u001B[43mread\u001B[49m\u001B[43m(\u001B[49m\u001B[43m  \u001B[49m\u001B[38;5;66;43;03m# type: ignore[attr-defined]\u001B[39;49;00m\n\u001B[1;32m   1705\u001B[0m \u001B[43m        \u001B[49m\u001B[43mnrows\u001B[49m\n\u001B[1;32m   1706\u001B[0m \u001B[43m    \u001B[49m\u001B[43m)\u001B[49m\n\u001B[1;32m   1707\u001B[0m \u001B[38;5;28;01mexcept\u001B[39;00m \u001B[38;5;167;01mException\u001B[39;00m:\n\u001B[1;32m   1708\u001B[0m     \u001B[38;5;28mself\u001B[39m\u001B[38;5;241m.\u001B[39mclose()\n",
      "File \u001B[0;32m~/PycharmProjects/pythonProject/venv/lib/python3.11/site-packages/pandas/io/parsers/c_parser_wrapper.py:234\u001B[0m, in \u001B[0;36mCParserWrapper.read\u001B[0;34m(self, nrows)\u001B[0m\n\u001B[1;32m    232\u001B[0m \u001B[38;5;28;01mtry\u001B[39;00m:\n\u001B[1;32m    233\u001B[0m     \u001B[38;5;28;01mif\u001B[39;00m \u001B[38;5;28mself\u001B[39m\u001B[38;5;241m.\u001B[39mlow_memory:\n\u001B[0;32m--> 234\u001B[0m         chunks \u001B[38;5;241m=\u001B[39m \u001B[38;5;28;43mself\u001B[39;49m\u001B[38;5;241;43m.\u001B[39;49m\u001B[43m_reader\u001B[49m\u001B[38;5;241;43m.\u001B[39;49m\u001B[43mread_low_memory\u001B[49m\u001B[43m(\u001B[49m\u001B[43mnrows\u001B[49m\u001B[43m)\u001B[49m\n\u001B[1;32m    235\u001B[0m         \u001B[38;5;66;03m# destructive to chunks\u001B[39;00m\n\u001B[1;32m    236\u001B[0m         data \u001B[38;5;241m=\u001B[39m _concatenate_chunks(chunks)\n",
      "File \u001B[0;32m~/PycharmProjects/pythonProject/venv/lib/python3.11/site-packages/pandas/_libs/parsers.pyx:814\u001B[0m, in \u001B[0;36mpandas._libs.parsers.TextReader.read_low_memory\u001B[0;34m()\u001B[0m\n",
      "File \u001B[0;32m~/PycharmProjects/pythonProject/venv/lib/python3.11/site-packages/pandas/_libs/parsers.pyx:875\u001B[0m, in \u001B[0;36mpandas._libs.parsers.TextReader._read_rows\u001B[0;34m()\u001B[0m\n",
      "File \u001B[0;32m~/PycharmProjects/pythonProject/venv/lib/python3.11/site-packages/pandas/_libs/parsers.pyx:850\u001B[0m, in \u001B[0;36mpandas._libs.parsers.TextReader._tokenize_rows\u001B[0;34m()\u001B[0m\n",
      "File \u001B[0;32m~/PycharmProjects/pythonProject/venv/lib/python3.11/site-packages/pandas/_libs/parsers.pyx:861\u001B[0m, in \u001B[0;36mpandas._libs.parsers.TextReader._check_tokenize_status\u001B[0;34m()\u001B[0m\n",
      "File \u001B[0;32m~/PycharmProjects/pythonProject/venv/lib/python3.11/site-packages/pandas/_libs/parsers.pyx:2029\u001B[0m, in \u001B[0;36mpandas._libs.parsers.raise_parser_error\u001B[0;34m()\u001B[0m\n",
      "\u001B[0;31mParserError\u001B[0m: Error tokenizing data. C error: Calling read(nbytes) on source failed. Try engine='python'."
     ]
    }
   ],
   "source": [
    "df = download_example()\n"
   ],
   "metadata": {
    "collapsed": false,
    "ExecuteTime": {
     "end_time": "2023-08-15T18:15:26.394043444Z",
     "start_time": "2023-08-15T18:15:25.791638894Z"
    }
   },
   "id": "32b26fd4-48f2-475c-b0e2-9930bd1410f5"
  },
  {
   "cell_type": "code",
   "execution_count": null,
   "outputs": [],
   "source": [
    "def df_to_table(df):\n",
    "    data = [df.columns.tolist()] + df.values.tolist()\n",
    "    table = Table(data)\n",
    "    table.setStyle(TableStyle([\n",
    "        ('BACKGROUND', (0, 0), (-1, 0), colors.grey),\n",
    "        ('TEXTCOLOR', (0, 0), (-1, 0), colors.whitesmoke),\n",
    "        ('ALIGN', (0, 0), (-1, -1), 'CENTER'),\n",
    "        ('FONTNAME', (0, 0), (-1, 0), 'Helvetica-Bold'),\n",
    "        ('BOTTOMPADDING', (0, 0), (-1, 0), 12),\n",
    "        ('BACKGROUND', (0, 1), (-1, -1), colors.beige),\n",
    "        ('GRID', (0, 0), (-1, -1), 1, colors.black)\n",
    "    ]))\n",
    "    return table\n"
   ],
   "metadata": {
    "collapsed": false,
    "ExecuteTime": {
     "start_time": "2023-08-15T18:15:26.400678638Z"
    }
   },
   "id": "8de72f070faf1e88"
  },
  {
   "cell_type": "code",
   "execution_count": null,
   "outputs": [],
   "source": [
    "from io import BytesIO\n",
    "from reportlab.lib.pagesizes import letter\n",
    "from reportlab.platypus import SimpleDocTemplate, Table, TableStyle, Spacer\n",
    "from reportlab.lib import colors\n",
    "import pandas as pd\n",
    "from sklearn.preprocessing import StandardScaler, LabelEncoder\n",
    "from datasist.structdata import detect_outliers  # You need to have datasist library installed for this\n",
    "\n",
    "# Define the DataAnalyzer class (paste the class definition you provided)\n",
    "\n",
    "# Create a sample DataFrame\n",
    "data = {\n",
    "    'Column1': [10, 15, 20, 25, 30, 35],\n",
    "    'Column2': [2.5, 3.7, 4.8, 6.2, 7.1, 100],  # Introduce an outlier here\n",
    "    'Column3': ['A', 'B', 'C', 'D', 'E', 'F']\n",
    "}\n",
    "df = pd.DataFrame(data)\n",
    "\n",
    "# Initialize the DataAnalyzer with the DataFrame\n",
    "data_analyzer = DataAnalyzer(df)\n",
    "\n",
    "# Run the methods on the DataFrame\n",
    "duplicate_percentage, null_percentage = data_analyzer.duplicates_nulls_percentage(df)\n",
    "outliers_info = data_analyzer.remove_outliers(df)\n",
    "summary_dict = data_analyzer.dataframe_summary_to_dict(df)\n",
    "data_analyzer.encode_scale_features(df)\n",
    "\n",
    "# Convert null_percentage Series to string before formatting\n",
    "null_percentage_str = null_percentage.apply(lambda x: f'{x:.2f}%')"
   ],
   "metadata": {
    "collapsed": false,
    "ExecuteTime": {
     "start_time": "2023-08-15T18:15:26.443835085Z"
    }
   },
   "id": "4c7ad891072d9705"
  },
  {
   "cell_type": "code",
   "execution_count": null,
   "outputs": [],
   "source": [
    "import pandas as pd\n",
    "from reportlab.lib.pagesizes import letter\n",
    "from reportlab.lib.styles import getSampleStyleSheet, ParagraphStyle\n",
    "from reportlab.platypus import SimpleDocTemplate, Paragraph\n",
    "\n",
    "class DataAnalyzer:\n",
    "    def duplicates_nulls_percentage(self, df):\n",
    "        duplicate_percentage = (df.duplicated().mean() * 100).round(2)\n",
    "        null_percentage = (df.isnull().mean() * 100).round(2)\n",
    "        return duplicate_percentage, null_percentage\n",
    "\n",
    "    def remove_outliers(self, df):\n",
    "        # Mocked outlier info for demonstration\n",
    "        outliers_info = [\n",
    "            {'Name': 'column1', 'Percentage': 0.5, 'Number_Of_Outliers': 10},\n",
    "            {'Name': 'column2', 'Percentage': 0.2, 'Number_Of_Outliers': 5}\n",
    "        ]\n",
    "        return outliers_info\n",
    "\n",
    "def generate_pdf_report(df, output_path, analyzer):\n",
    "    try:\n",
    "        doc = SimpleDocTemplate(output_path, pagesize=letter)\n",
    "        elements = []\n",
    "\n",
    "        styles = getSampleStyleSheet()\n",
    "        title_style = styles['Title']\n",
    "        header_style = styles['Heading1']\n",
    "        body_style = styles['BodyText']\n",
    "\n",
    "        duplicate_percentage, null_percentage = analyzer.duplicates_nulls_percentage(df)\n",
    "        outliers_info = analyzer.remove_outliers(df)\n",
    "\n",
    "        # Data description section\n",
    "        data_description = df.describe(include='all').to_html(classes='table')\n",
    "\n",
    "        elements.append(Paragraph(\"<b>Data Description:</b>\", title_style))\n",
    "        elements.append(Paragraph(data_description, body_style))\n",
    "\n",
    "        elements.append(Paragraph(\"<b>Duplicates and Nulls Analysis:</b>\", title_style))\n",
    "        elements.append(Paragraph(f\"Duplicates Percentage: {duplicate_percentage}%\", header_style))\n",
    "        elements.append(Paragraph(f\"Nulls Percentage: {null_percentage}%\", header_style))\n",
    "\n",
    "        elements.append(Paragraph(\"<b>Outliers Analysis:</b>\", title_style))\n",
    "        for info in outliers_info:\n",
    "            column_name = info['Name']\n",
    "            percentage = info['Percentage']\n",
    "            num_outliers = info['Number_Of_Outliers']\n",
    "            elements.append(Paragraph(f\"Column: {column_name}\", header_style))\n",
    "            elements.append(Paragraph(f\"Outliers Percentage: {percentage * 100:.2f}%\", header_style))\n",
    "            elements.append(Paragraph(f\"Number of Outliers: {num_outliers}\", header_style))\n",
    "\n",
    "        doc.build(elements)\n",
    "        print(f\"PDF report generated and saved to {output_path}\")\n",
    "    except Exception as e:\n",
    "        print(\"Error occurred while generating PDF report.\")\n",
    "        print(f\"Error message: {str(e)}\")\n",
    "\n",
    "# Example usage\n",
    "if __name__ == \"__main__\":\n",
    "    data = {'column1': [1, 2, 2, 3, 3],\n",
    "            'column2': [10, 15, 18, 25, 30]}\n",
    "    df = pd.DataFrame(data)\n",
    "    \n",
    "    output_path = \"report.pdf\"\n",
    "    \n",
    "    analyzer = DataAnalyzer()\n",
    "    generate_pdf_report(df, output_path, analyzer)\n"
   ],
   "metadata": {
    "collapsed": false,
    "ExecuteTime": {
     "start_time": "2023-08-15T18:15:26.444040002Z"
    }
   },
   "id": "fd4641f0018f37bb"
  },
  {
   "cell_type": "code",
   "execution_count": 3,
   "outputs": [],
   "source": [
    "from reportlab.lib.pagesizes import letter\n",
    "from reportlab.lib.styles import getSampleStyleSheet, ParagraphStyle\n",
    "from reportlab.platypus import SimpleDocTemplate, Table, TableStyle, Spacer, Paragraph\n",
    "import pandas as pd\n",
    "from data_downloader import download_example\n",
    "from data_analyzer import DataAnalyzer\n",
    "from datasist.structdata import detect_outliers\n",
    "pd.set_option('display.float_format', lambda x: '%.2f' % x)\n",
    "\n",
    "def generate_pdf_report(df, output_path, numerical_columns):\n",
    "    try:\n",
    "        doc = SimpleDocTemplate(output_path, pagesize=letter)\n",
    "        elements = []\n",
    "\n",
    "        styles = getSampleStyleSheet()\n",
    "        title_style = styles['Title']\n",
    "        header_style = styles['Heading1']\n",
    "        body_style = styles['BodyText']\n",
    "\n",
    "        for column_name in numerical_columns:\n",
    "            # Add title for column description\n",
    "            elements.append(Paragraph(f\"<b>Description of {column_name}</b>\", title_style))\n",
    "\n",
    "            # Convert column data to a DataFrame for description\n",
    "            column_description = df[column_name].describe().to_frame()\n",
    "\n",
    "            # Convert DataFrame to HTML table\n",
    "            column_description_html = column_description.to_html(classes='table')\n",
    "\n",
    "            # Add the HTML table to the report\n",
    "            elements.append(Paragraph(column_description_html, body_style))\n",
    "\n",
    "            elements.append(Spacer(1, 12))  # Add space\n",
    "\n",
    "        doc.build(elements)\n",
    "        print(f\"PDF report generated and saved to {output_path}\")\n",
    "    except Exception as e:\n",
    "        print(\"Error occurred while generating PDF report.\")\n",
    "        print(f\"Error message: {str(e)}\")"
   ],
   "metadata": {
    "collapsed": false,
    "ExecuteTime": {
     "end_time": "2023-08-15T18:21:18.389969325Z",
     "start_time": "2023-08-15T18:21:18.371522013Z"
    }
   },
   "id": "294a367613d4bd3a"
  },
  {
   "cell_type": "code",
   "execution_count": null,
   "outputs": [],
   "source": [
    "data = {'column1': [1, 2, 2, 3, 3],\n",
    "            'column2': [10, 15, 18, 25, 30]}\n",
    "df = pd.DataFrame(data)\n",
    "\n",
    "output_path = \"report.pdf\"\n",
    "\n",
    "analyzer = DataAnalyzer(df)\n",
    "generate_pdf_report(df, output_path, analyzer.numerical_columns)"
   ],
   "metadata": {
    "collapsed": false,
    "ExecuteTime": {
     "start_time": "2023-08-15T18:15:26.444587213Z"
    }
   },
   "id": "1e0bb36634fe02c4"
  },
  {
   "cell_type": "code",
   "execution_count": 6,
   "outputs": [
    {
     "name": "stdout",
     "output_type": "stream",
     "text": [
      "File with 'international' in its name already exists.\n"
     ]
    }
   ],
   "source": [
    "import pandas as pd\n",
    "from sklearn.preprocessing import StandardScaler, LabelEncoder\n",
    "from datasist.structdata import detect_outliers\n",
    "from reportlab.lib.pagesizes import letter\n",
    "from reportlab.lib import colors\n",
    "from reportlab.platypus import SimpleDocTemplate, Table, TableStyle, Paragraph\n",
    "from reportlab.lib.styles import getSampleStyleSheet\n",
    "from data_downloader import download_example\n",
    "from data_analyzer import DataAnalyzer\n",
    "from datasist.structdata import detect_outliers\n",
    "import pandas as pd\n",
    "pd.set_option('display.float_format', lambda x: '%.2f' % x)\n",
    "\n",
    "# Your DataAnalyzer class here...\n",
    "\n",
    "class ReportGenerator:\n",
    "    def __init__(self, output_file):\n",
    "        self.output_file = output_file\n",
    "        self.data = []\n",
    "\n",
    "    def add_description(self, text):\n",
    "        self.data.append(Paragraph(text, getSampleStyleSheet()[\"Normal\"]))\n",
    "        self.data.append(Table([(\"\",)]))  # Add an empty table as a separator\n",
    "\n",
    "    def add_table(self, headers, rows):\n",
    "        table_data = [headers] + rows\n",
    "        table = Table(table_data)\n",
    "        table.setStyle(TableStyle([\n",
    "            ('BACKGROUND', (0, 0), (-1, 0), colors.grey),\n",
    "            ('TEXTCOLOR', (0, 0), (-1, 0), colors.whitesmoke),\n",
    "            ('ALIGN', (0, 0), (-1, -1), 'CENTER'),\n",
    "            ('FONTNAME', (0, 0), (-1, 0), 'Helvetica-Bold'),\n",
    "            ('BOTTOMPADDING', (0, 0), (-1, 0), 12),\n",
    "            ('BACKGROUND', (0, 1), (-1, -1), colors.beige),\n",
    "        ]))\n",
    "        self.data.append(table)\n",
    "        self.data.append(Table([(\"----------\",)]))  # Add an empty table as a separator\n",
    "\n",
    "    def generate_pdf(self):\n",
    "        doc = SimpleDocTemplate(self.output_file, pagesize=letter)\n",
    "        doc.build(self.data)\n",
    "\n",
    "# Example usage\n",
    "if __name__ == \"__main__\":\n",
    "    df = download_example() # Replace with your data source\n",
    "    analyzer = DataAnalyzer(df)\n",
    "\n",
    "    report = ReportGenerator(\"output.pdf\")\n",
    "\n",
    "    # Description for numerical, categorical, and datetime columns\n",
    "    report.add_description(\"Column Types:\")\n",
    "    numerical_columns = \", \".join(analyzer.numerical_columns)\n",
    "    categorical_columns = \", \".join(analyzer.categorical_columns)\n",
    "    datetime_columns = \", \".join(analyzer.datetime_columns)\n",
    "    report.add_table([\"Type\", \"Column Names\"],\n",
    "                     [(\"Numerical Columns\", numerical_columns),\n",
    "                      (\"Categorical Columns\", categorical_columns),\n",
    "                      (\"Datetime Columns\", datetime_columns)])\n",
    "\n",
    "    # Duplicate Percentage table\n",
    "    report.add_description(\"Duplicate Percentage:\")\n",
    "    duplicate_percentage, _ = analyzer.duplicates_nulls_percentage(df)\n",
    "    report.add_table([\"Metric\", \"Percentage\"], [(\"Duplicate Percentage\", f\"{duplicate_percentage}%\")])\n",
    "\n",
    "    # Null Percentage table\n",
    "    report.add_description(\"Null Percentage:\")\n",
    "    _, null_percentage = analyzer.duplicates_nulls_percentage(df)\n",
    "    null_table_data = [[\"Column Name\", \"Percentage\"]]\n",
    "    for column_name, percentage in null_percentage.items():\n",
    "        null_table_data.append([column_name, f\"{percentage:.2f}%\"])\n",
    "    report.add_table(null_table_data[0], null_table_data[1:])\n",
    "\n",
    "    # Description for outliers\n",
    "    report.add_description(\"Outliers:\")\n",
    "    outliers_info = analyzer.remove_outliers(df)\n",
    "    report.add_table([\"Column Name\", \"Percentage of Outliers\", \"Number of Outliers\"],\n",
    "                     [(info['Name'], f\"{info['Percentage']*100:.2f}%\", info['Number_Of_Outliers']) for info in outliers_info])\n",
    "\n",
    "    # More descriptions and tables can be added for other analysis methods\n",
    "\n",
    "    # Generate the PDF\n",
    "    report.generate_pdf()"
   ],
   "metadata": {
    "collapsed": false,
    "ExecuteTime": {
     "end_time": "2023-08-15T18:29:47.396778715Z",
     "start_time": "2023-08-15T18:29:45.577623160Z"
    }
   },
   "id": "84afb0f98f020ba"
  },
  {
   "cell_type": "code",
   "execution_count": null,
   "outputs": [],
   "source": [],
   "metadata": {
    "collapsed": false
   },
   "id": "53ae51ffd3af5b56"
  }
 ],
 "metadata": {
  "kernelspec": {
   "display_name": "Python 3 (ipykernel)",
   "language": "python",
   "name": "python3"
  },
  "language_info": {
   "codemirror_mode": {
    "name": "ipython",
    "version": 3
   },
   "file_extension": ".py",
   "mimetype": "text/x-python",
   "name": "python",
   "nbconvert_exporter": "python",
   "pygments_lexer": "ipython3",
   "version": "3.11.2"
  }
 },
 "nbformat": 4,
 "nbformat_minor": 5
}
