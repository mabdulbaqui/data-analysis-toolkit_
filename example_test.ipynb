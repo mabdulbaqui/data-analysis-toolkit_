{
 "cells": [
  {
   "cell_type": "code",
   "execution_count": 5,
   "id": "initial_id",
   "metadata": {
    "ExecuteTime": {
     "end_time": "2023-08-24T20:25:26.292379264Z",
     "start_time": "2023-08-24T20:25:25.221166050Z"
    }
   },
   "outputs": [],
   "source": [
    "from data_downloader import read_example_files\n",
    "from data_downloader import read_file_to_dataframe\n",
    "from runner import run_example_pdf_visu\n",
    "from runner import run_example_pdf_summary\n",
    "from runner import remove_directories\n",
    "remove_directories()\n",
    "import time"
   ]
  },
  {
   "cell_type": "markdown",
   "id": "bae482616100948e",
   "metadata": {},
   "source": [
    "1. this will generate 2 pdf for each csv in report dir one for visualizations and one for visualizations and statistical summary \n",
    "2. encoded date\n",
    "3. Elapsed time: 121.1537 seconds\n",
    "4. in lasts cell i will open all pdfs filles in Report dir "
   ]
  },
  {
   "cell_type": "code",
   "execution_count": 2,
   "id": "b4eb1d6c6a6f6c09",
   "metadata": {
    "ExecuteTime": {
     "end_time": "2023-08-24T20:27:31.213449322Z",
     "start_time": "2023-08-24T20:25:26.295142374Z"
    }
   },
   "outputs": [
    {
     "name": "stdout",
     "output_type": "stream",
     "text": [
      "Directory './Data' already exists.\n",
      "File with 'international' in its name already exists.\n",
      "Directory 'Report' already exists.\n",
      "Numerical Columns: ['usg_apt_id', 'usg_wac', 'fg_apt_id', 'fg_wac', 'airlineid', 'carriergroup', 'Scheduled', 'Charter', 'Total']\n",
      "Categorical Columns: ['usg_apt', 'fg_apt', 'carrier', 'type']\n",
      "Datetime Columns: ['data_dte', 'Year', 'Month']\n",
      "PDF generated successfully.\n",
      "PDF summary report generated successfully.\n",
      "PDF generated successfully.\n",
      "PDF summary report generated successfully.\n",
      "Reports generated successfully.\n",
      "Removed directory: directory_2023-08-24_21-48-19\n",
      "Elapsed time: 121.1537 seconds\n"
     ]
    }
   ],
   "source": [
    "start_time = time.time()  # Record the start time\n",
    "\n",
    "lst =read_example_files()\n",
    "for i in lst:\n",
    "    df, name = read_file_to_dataframe(i)\n",
    "    run_example_pdf_visu(df, name[:-4])\n",
    "    run_example_pdf_summary(df, name[:-4])\n",
    "\n",
    "print(\"Reports generated successfully.\")\n",
    "\n",
    "remove_directories()\n",
    "end_time = time.time()  # Record the end time\n",
    "\n",
    "elapsed_time = end_time - start_time  # Calculate the elapsed time\n",
    "print(f\"Elapsed time: {elapsed_time:.4f} seconds\")"
   ]
  },
  {
   "cell_type": "code",
   "execution_count": 4,
   "id": "dc49a670",
   "metadata": {},
   "outputs": [
    {
     "name": "stdout",
     "output_type": "stream",
     "text": [
      "eda_report_summary_International_Report_Departures.pdf\n",
      "eda_report_graphs_International_Report_Passengers.pdf\n",
      "eda_report_graphs_International_Report_Departures.pdf\n",
      "eda_report_summary_International_Report_Passengers.pdf\n"
     ]
    },
    {
     "name": "stderr",
     "output_type": "stream",
     "text": [
      "\n",
      "(process:49467): Gtk-WARNING **: 21:54:19.134: Locale not supported by C library.\n",
      "\tUsing the fallback 'C' locale.\n",
      "\n",
      "(process:49480): Gtk-WARNING **: 21:54:19.152: Locale not supported by C library.\n",
      "\tUsing the fallback 'C' locale.\n",
      "\n",
      "(process:49490): Gtk-WARNING **: 21:54:19.154: Locale not supported by C library.\n",
      "\tUsing the fallback 'C' locale.\n",
      "\n",
      "(process:49502): Gtk-WARNING **: 21:54:19.178: Locale not supported by C library.\n",
      "\tUsing the fallback 'C' locale.\n"
     ]
    }
   ],
   "source": [
    "import os\n",
    "import glob\n",
    "import subprocess\n",
    "\n",
    "pdf_directory = \"/home/xcrown/PycharmProjects/data-analysis-toolkit/Report\"\n",
    "pdf_files = glob.glob(os.path.join(pdf_directory, \"*.pdf\"))\n",
    "\n",
    "for pdf_file in pdf_files:\n",
    "    pdf_file_name = os.path.basename(pdf_file)\n",
    "    print(pdf_file_name)\n",
    "\n",
    "    # Open the PDF file using the default PDF viewer\n",
    "    subprocess.run([\"xdg-open\", pdf_file])\n"
   ]
  },
  {
   "cell_type": "code",
   "execution_count": null,
   "id": "97b62a9b",
   "metadata": {},
   "outputs": [],
   "source": []
  }
 ],
 "metadata": {
  "kernelspec": {
   "display_name": "Python 3 (ipykernel)",
   "language": "python",
   "name": "python3"
  },
  "language_info": {
   "codemirror_mode": {
    "name": "ipython",
    "version": 3
   },
   "file_extension": ".py",
   "mimetype": "text/x-python",
   "name": "python",
   "nbconvert_exporter": "python",
   "pygments_lexer": "ipython3",
   "version": "3.10.12"
  }
 },
 "nbformat": 4,
 "nbformat_minor": 5
}
